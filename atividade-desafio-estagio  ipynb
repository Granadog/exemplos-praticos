{
  "cells": [
    {
      "cell_type": "markdown",
      "metadata": {
        "id": "view-in-github",
        "colab_type": "text"
      },
      "source": [
        "<a href=\"https://colab.research.google.com/github/Granadog/Trabalhando-Dados/blob/Principal/atividade-desafio-estagio%20%20ipynb\" target=\"_parent\"><img src=\"https://colab.research.google.com/assets/colab-badge.svg\" alt=\"Open In Colab\"/></a>"
      ]
    },
    {
      "cell_type": "markdown",
      "metadata": {
        "id": "hMpjhZQmiu_M"
      },
      "source": [
        "## (1) Desobrindo o valor da variável \"soma\"."
      ]
    },
    {
      "cell_type": "code",
      "execution_count": 2,
      "metadata": {
        "id": "y5Afjs2paXpe"
      },
      "outputs": [],
      "source": [
        "indice = 13\n",
        "soma = 0\n",
        "k = 0"
      ]
    },
    {
      "cell_type": "code",
      "execution_count": 3,
      "metadata": {
        "colab": {
          "base_uri": "https://localhost:8080/"
        },
        "id": "c4jPfg8UfelN",
        "outputId": "7cc711d9-c2ec-48ce-c708-407c9f51a24c"
      },
      "outputs": [
        {
          "output_type": "stream",
          "name": "stdout",
          "text": [
            "91\n"
          ]
        }
      ],
      "source": [
        "while k < indice:\n",
        "  k = k + 1\n",
        "  soma = soma + k\n",
        "print(soma)\n"
      ]
    },
    {
      "cell_type": "markdown",
      "metadata": {
        "id": "_pjT15hSjk1e"
      },
      "source": [
        "## (2) Descobrindo se um número pertence ou não à sequência de Fibonacci"
      ]
    },
    {
      "cell_type": "code",
      "execution_count": 4,
      "metadata": {
        "id": "vfkPeSchhM76"
      },
      "outputs": [],
      "source": [
        "def fibonacci_sequence(n):\n",
        "    fib_sequence = [0, 1]\n",
        "    while fib_sequence[-1] < n:\n",
        "        fib_sequence.append(fib_sequence[-1] + fib_sequence[-2])\n",
        "    return fib_sequence"
      ]
    },
    {
      "cell_type": "code",
      "execution_count": 8,
      "metadata": {
        "colab": {
          "base_uri": "https://localhost:8080/"
        },
        "id": "JDcTrdr0jkeb",
        "outputId": "3353d2cc-425d-4c1b-dabe-03c164d5145a"
      },
      "outputs": [
        {
          "output_type": "stream",
          "name": "stdout",
          "text": [
            "Digite um número para verificar se pertence à sequência de Fibonacci: 1\n",
            "O número 1 pertence à sequência de Fibonacci.\n",
            "O número 1 não pertence à sequência de Fibonacci.\n",
            "Digite um número para verificar se pertence à sequência de Fibonacci: 5\n",
            "O número 5 pertence à sequência de Fibonacci.\n",
            "O número 5 não pertence à sequência de Fibonacci.\n",
            "Digite um número para verificar se pertence à sequência de Fibonacci: 365\n",
            "O número 365 não pertence à sequência de Fibonacci.\n",
            "Digite um número para verificar se pertence à sequência de Fibonacci: -1\n",
            "Programa encerrado.\n",
            "Programa encerrado.\n"
          ]
        }
      ],
      "source": [
        "def pertence_fibonacci(numero):\n",
        "    fib_sequence = fibonacci_sequence(numero)\n",
        "    if numero in fib_sequence:\n",
        "        return True\n",
        "    else:\n",
        "        return False\n",
        "\n",
        "while True:\n",
        "  numero = int(input(\"Digite um número para verificar se pertence à sequência de Fibonacci: \"))\n",
        "\n",
        "  if pertence_fibonacci(numero):\n",
        "        print(f\"O número {numero} pertence à sequência de Fibonacci.\")\n",
        "\n",
        "  if numero == -1:\n",
        "        print(\"Programa encerrado.\")\n",
        "        break\n",
        "  else:\n",
        "        print(f\"O número {numero} não pertence à sequência de Fibonacci.\")\n",
        "\n",
        "print(\"Programa encerrado.\")"
      ]
    },
    {
      "cell_type": "markdown",
      "metadata": {
        "id": "UQULIUlat9PV"
      },
      "source": [
        "# (5) Escreva um programa que inverta os caracteres de um string.\n"
      ]
    },
    {
      "cell_type": "code",
      "execution_count": 6,
      "metadata": {
        "id": "CBCrLVLv0N6Y"
      },
      "outputs": [],
      "source": [
        "animal = \"hipopotamo\"\n",
        "animal_invertido = animal[::-1]"
      ]
    },
    {
      "cell_type": "code",
      "execution_count": 7,
      "metadata": {
        "id": "_t1PqWcU12rw",
        "colab": {
          "base_uri": "https://localhost:8080/"
        },
        "outputId": "eb04e87d-e66e-4386-e0ca-e7a17672eeec"
      },
      "outputs": [
        {
          "output_type": "stream",
          "name": "stdout",
          "text": [
            "omatopopih\n"
          ]
        }
      ],
      "source": [
        "print(animal_invertido)"
      ]
    },
    {
      "cell_type": "code",
      "source": [],
      "metadata": {
        "id": "ewfEvuiP7Agj"
      },
      "execution_count": null,
      "outputs": []
    }
  ],
  "metadata": {
    "accelerator": "GPU",
    "colab": {
      "gpuType": "T4",
      "provenance": [],
      "authorship_tag": "ABX9TyN9Zy+OMzWmVuqchckFAQms",
      "include_colab_link": true
    },
    "kernelspec": {
      "display_name": "Python 3",
      "name": "python3"
    },
    "language_info": {
      "name": "python"
    }
  },
  "nbformat": 4,
  "nbformat_minor": 0
}